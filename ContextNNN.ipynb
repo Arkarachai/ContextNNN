{
 "cells": [
  {
   "cell_type": "code",
   "execution_count": 1,
   "metadata": {
    "collapsed": false
   },
   "outputs": [
    {
     "name": "stderr",
     "output_type": "stream",
     "text": [
      "Using TensorFlow backend.\n"
     ]
    }
   ],
   "source": [
    "from __future__ import print_function\n",
    "\n",
    "%matplotlib inline\n",
    "\n",
    "# basic op\n",
    "import sys\n",
    "import numpy as np\n",
    "import pandas as pd\n",
    "from collections import Counter\n",
    "from time import time\n",
    "\n",
    "# helper util to read data\n",
    "from chai_deep_net.dna_reader import dna_to_onehot\n",
    "from chai_deep_net.dna_reader import onehot_to_dna\n",
    "\n",
    "# deep learning import\n",
    "import tensorflow as tf\n",
    "from tensorflow.keras.callbacks import TensorBoard\n",
    "\n",
    "# model adjustment\n",
    "from sklearn.utils import class_weight\n",
    "\n",
    "# visualization\n",
    "import matplotlib.pyplot as plt\n",
    "import seaborn as sns\n",
    "\n",
    "# understand attribution\n",
    "#from deepexplain.tensorflow import DeepExplain  #not working with TF2.0 yet\n",
    "\n"
   ]
  },
  {
   "cell_type": "code",
   "execution_count": 3,
   "metadata": {
    "collapsed": false
   },
   "outputs": [
    {
     "data": {
      "text/plain": [
       "'2.0.0-alpha0'"
      ]
     },
     "execution_count": 3,
     "metadata": {},
     "output_type": "execute_result"
    }
   ],
   "source": [
    "tf.__version__"
   ]
  },
  {
   "cell_type": "code",
   "execution_count": 4,
   "metadata": {
    "collapsed": true
   },
   "outputs": [],
   "source": [
    "def basic_dna_model(input_shape):\n",
    "    X_input = tf.keras.Input(input_shape)\n",
    "    print(X_input.shape)\n",
    "    X = tf.keras.layers.Flatten()(X_input)\n",
    "    X = tf.keras.layers.Dense(6, activation=tf.nn.relu, name='n1')(X)\n",
    "    X = tf.keras.layers.Dense(1, activation=tf.nn.sigmoid, name='n2')(X)  \n",
    "    model = tf.keras.Model(inputs=X_input, outputs=X, name='basic_dna_model')\n",
    "    return model"
   ]
  },
  {
   "cell_type": "code",
   "execution_count": 5,
   "metadata": {
    "collapsed": false
   },
   "outputs": [
    {
     "name": "stderr",
     "output_type": "stream",
     "text": [
      "/Users/chai/anaconda/lib/python2.7/site-packages/ipykernel/__main__.py:2: DeprecationWarning: Both axis > a.ndim and axis < -a.ndim - 1 are deprecated and will raise an AxisError in the future.\n",
      "  from ipykernel import kernelapp as app\n",
      "/Users/chai/anaconda/lib/python2.7/site-packages/ipykernel/__main__.py:3: DeprecationWarning: Both axis > a.ndim and axis < -a.ndim - 1 are deprecated and will raise an AxisError in the future.\n",
      "  app.launch_new_instance()\n",
      "/Users/chai/anaconda/lib/python2.7/site-packages/ipykernel/__main__.py:6: DeprecationWarning: Both axis > a.ndim and axis < -a.ndim - 1 are deprecated and will raise an AxisError in the future.\n"
     ]
    },
    {
     "name": "stdout",
     "output_type": "stream",
     "text": [
      "number of training examples = 40000\n",
      "X_train shape: (40000, 4, 12, 1)\n",
      "Y_train shape: (40000, 1)\n",
      "X_test shape: (20168, 4, 12, 1)\n",
      "Y_test shape: (20168, 1)\n"
     ]
    },
    {
     "name": "stderr",
     "output_type": "stream",
     "text": [
      "/Users/chai/anaconda/lib/python2.7/site-packages/ipykernel/__main__.py:7: DeprecationWarning: Both axis > a.ndim and axis < -a.ndim - 1 are deprecated and will raise an AxisError in the future.\n"
     ]
    }
   ],
   "source": [
    "pre_training_data = open('dataset/training_x').read().strip().split('\\n')\n",
    "X_train = np.expand_dims(np.array(map(np.transpose, map(dna_to_onehot, pre_training_data))), axis=4)\n",
    "Y_train = np.expand_dims(np.array(map(float, open('dataset/training_y').read().strip().split('\\n'))), axis=4)\n",
    "\n",
    "pre_testing_data = open('dataset/test_x').read().strip().split('\\n')\n",
    "X_test = np.expand_dims(np.array(map(np.transpose, map(dna_to_onehot, pre_testing_data))), axis=4)\n",
    "Y_test = np.expand_dims(np.array(map(float, open('dataset/test_y').read().strip().split('\\n'))), axis=4)\n",
    "\n",
    "print (\"number of training examples = \" + str(X_train.shape[0]))\n",
    "print (\"X_train shape: \" + str(X_train.shape))\n",
    "print (\"Y_train shape: \" + str(Y_train.shape))\n",
    "print (\"X_test shape: \" + str(X_test.shape))\n",
    "print (\"Y_test shape: \" + str(Y_test.shape))\n"
   ]
  },
  {
   "cell_type": "code",
   "execution_count": 12,
   "metadata": {
    "collapsed": false
   },
   "outputs": [
    {
     "name": "stdout",
     "output_type": "stream",
     "text": [
      "(None, 4, 12, 1)\n",
      "[0.97494394 1.02637791]\n",
      "Train on 32000 samples, validate on 8000 samples\n",
      "Epoch 1/12\n",
      "32000/32000 [==============================] - 1s 23us/sample - loss: 0.6472 - accuracy: 0.6377 - val_loss: 0.6158 - val_accuracy: 0.6855\n",
      "Epoch 2/12\n",
      "32000/32000 [==============================] - 1s 19us/sample - loss: 0.6130 - accuracy: 0.6801 - val_loss: 0.5901 - val_accuracy: 0.7031\n",
      "Epoch 3/12\n",
      "32000/32000 [==============================] - 1s 16us/sample - loss: 0.5894 - accuracy: 0.6960 - val_loss: 0.5705 - val_accuracy: 0.7166\n",
      "Epoch 4/12\n",
      "32000/32000 [==============================] - 1s 16us/sample - loss: 0.5709 - accuracy: 0.7064 - val_loss: 0.5554 - val_accuracy: 0.7245\n",
      "Epoch 5/12\n",
      "32000/32000 [==============================] - 0s 15us/sample - loss: 0.5580 - accuracy: 0.7112 - val_loss: 0.5463 - val_accuracy: 0.7228\n",
      "Epoch 6/12\n",
      "32000/32000 [==============================] - 0s 15us/sample - loss: 0.5488 - accuracy: 0.7171 - val_loss: 0.5372 - val_accuracy: 0.7261\n",
      "Epoch 7/12\n",
      "32000/32000 [==============================] - 0s 15us/sample - loss: 0.5421 - accuracy: 0.7174 - val_loss: 0.5326 - val_accuracy: 0.7269\n",
      "Epoch 8/12\n",
      "32000/32000 [==============================] - 0s 15us/sample - loss: 0.5372 - accuracy: 0.7213 - val_loss: 0.5285 - val_accuracy: 0.7294\n",
      "Epoch 9/12\n",
      "32000/32000 [==============================] - 1s 16us/sample - loss: 0.5334 - accuracy: 0.7228 - val_loss: 0.5258 - val_accuracy: 0.7270\n",
      "Epoch 10/12\n",
      "32000/32000 [==============================] - 0s 15us/sample - loss: 0.5308 - accuracy: 0.7217 - val_loss: 0.5256 - val_accuracy: 0.7289\n",
      "Epoch 11/12\n",
      "32000/32000 [==============================] - 0s 16us/sample - loss: 0.5288 - accuracy: 0.7220 - val_loss: 0.5231 - val_accuracy: 0.7260\n",
      "Epoch 12/12\n",
      "32000/32000 [==============================] - 0s 15us/sample - loss: 0.5269 - accuracy: 0.7222 - val_loss: 0.5200 - val_accuracy: 0.7279\n"
     ]
    }
   ],
   "source": [
    "input_dimension = X_train.shape[1:]\n",
    "model = basic_dna_model(input_dimension)\n",
    "model.compile(optimizer='adam', loss='binary_crossentropy', metrics=['accuracy'])\n",
    "\n",
    "#collect data in TensorBoard\n",
    "tensorboard = TensorBoard(log_dir=\"logs/{}\".format(time()))\n",
    "\n",
    "#use weight to address imbalance sample\n",
    "class_weights = class_weight.compute_class_weight('balanced', np.unique(np.squeeze(Y_train, axis=1)),\n",
    "                                                  np.squeeze(Y_train, axis=1))\n",
    "print(class_weights)\n",
    "class_weights = dict(enumerate(class_weights))\n",
    "\n",
    "#fit(train) and save stat in history; callbacks = method to customize training which we ask it to use Tansorboard\n",
    "history = model.fit(X_train, Y_train, epochs=12, batch_size=100, class_weight=class_weights,\n",
    "                    validation_split=0.2, callbacks=[tensorboard])"
   ]
  },
  {
   "cell_type": "code",
   "execution_count": 13,
   "metadata": {
    "collapsed": false
   },
   "outputs": [
    {
     "name": "stdout",
     "output_type": "stream",
     "text": [
      "Counter({0.0: 20514, 1.0: 19486})\n",
      "Counter({1.0: 11983, 0.0: 8185})\n",
      "20168/20168 [==============================] - 0s 1us/sample - loss: 0.5289 - accuracy: 0.7180\n",
      "\n",
      "Loss = 0.5289004445075989\n",
      "Test Accuracy = 0.71801865\n",
      "Model: \"basic_dna_model\"\n",
      "_________________________________________________________________\n",
      "Layer (type)                 Output Shape              Param #   \n",
      "=================================================================\n",
      "input_3 (InputLayer)         [(None, 4, 12, 1)]        0         \n",
      "_________________________________________________________________\n",
      "flatten_2 (Flatten)          (None, 48)                0         \n",
      "_________________________________________________________________\n",
      "n1 (Dense)                   (None, 6)                 294       \n",
      "_________________________________________________________________\n",
      "n2 (Dense)                   (None, 1)                 7         \n",
      "=================================================================\n",
      "Total params: 301\n",
      "Trainable params: 301\n",
      "Non-trainable params: 0\n",
      "_________________________________________________________________\n",
      "['loss', 'val_accuracy', 'val_loss', 'accuracy']\n"
     ]
    }
   ],
   "source": [
    "#use predict to sanitize check imbalance class\n",
    "y_prob = model.predict(X_test)\n",
    "rounded = [round(x[0]) for x in y_prob]\n",
    "print(Counter(np.squeeze(Y_train)))\n",
    "print(Counter(rounded))\n",
    "\n",
    "#evaluation\n",
    "preds = model.evaluate(X_test, Y_test, batch_size=20168, verbose=1, sample_weight=None)\n",
    "print()\n",
    "print (\"Loss = \" + str(preds[0]))\n",
    "print (\"Test Accuracy = \" + str(preds[1]))\n",
    "#print model summary\n",
    "model.summary()\n",
    "\n",
    "# list all data in history\n",
    "print(history.history.keys())"
   ]
  },
  {
   "cell_type": "code",
   "execution_count": 14,
   "metadata": {
    "collapsed": false
   },
   "outputs": [
    {
     "data": {
      "image/png": "[encoded data removed]",
      "text/plain": [
       "<Figure size 600x400 with 1 Axes>"
      ]
     },
     "metadata": {},
     "output_type": "display_data"
    },
    {
     "data": {
      "image/png": "[encoded data removed]",
      "text/plain": [
       "<Figure size 600x400 with 1 Axes>"
      ]
     },
     "metadata": {},
     "output_type": "display_data"
    }
   ],
   "source": [
    "# summarize model performance\n",
    "plt.plot(history.history['accuracy'])\n",
    "plt.plot(history.history['val_accuracy'])\n",
    "plt.title('model accuracy')\n",
    "plt.ylabel('accuracy')\n",
    "plt.xlabel('epoch')\n",
    "plt.legend(['train', 'val'], loc='upper left')\n",
    "plt.show()\n",
    "# summarize history for loss\n",
    "plt.plot(history.history['loss'])\n",
    "plt.plot(history.history['val_loss'])\n",
    "plt.title('model loss')\n",
    "plt.ylabel('loss')\n",
    "plt.xlabel('epoch')\n",
    "plt.legend(['train', 'val'], loc='upper left')\n",
    "plt.show()\n",
    "\n",
    "# tensorflow visual\n",
    "# RUN THIS: tensorboard --logdir=logs\n",
    "# BROWSE THIS: http://0.0.0.0:6006"
   ]
  },
  {
   "cell_type": "markdown",
   "metadata": {},
   "source": [
    "The following code does not work with TF2.0 yet due to conflict library which needs session notation. However, we were able to generate some results using Keras with TF1.0 back end.\n",
    "The idea is to analyze the attribution of dataset. Attribution analysis informs us how each position and value of input affect the model prediction results.\n",
    "<img src=\"figure/attribution.png\"/>\n",
    "See https://github.com/Arkarachai/ContextNNN/blob/master/figure/attribution.png for attribution results.\n"
   ]
  },
  {
   "cell_type": "code",
   "execution_count": null,
   "metadata": {
    "collapsed": true
   },
   "outputs": [],
   "source": [
    "#https://github.com/marcoancona/DeepExplain\n",
    "attribution_feature_input=X_test\n",
    "attribution_response_input=Y_test\n",
    "with DeepExplain(session=K.get_session()) as de:\n",
    "    input_tensors = model.layers[0].input\n",
    "    #input_tensors = model.inputs\n",
    "    print('input_tensors shape2', type(input_tensors), input_tensors)\n",
    "    fModel = Model(inputs=input_tensors, outputs=model.outputs)\n",
    "    target_tensors = fModel(input_tensors)\n",
    "    xs = attribution_feature_input\n",
    "    ys = attribution_response_input\n",
    "    #print('actual input',xs.shape, xs)\n",
    "    #print('actual output',ys)\n",
    "    attributions = de.explain('grad*input', target_tensors, input_tensors, xs)\n",
    "    \n",
    "sum_attributions=np.sum(attributions,axis=0)\n",
    "sum_attribution_feature_input=np.sum(attribution_feature_input,axis=0)\n",
    "#print('sum_attributions',sum_attributions)\n",
    "#print('sum_attribution_feature_input',sum_attribution_feature_input)\n",
    "attribution_ratio=sum_attributions/sum_attribution_feature_input\n",
    "#print('ratio',attribution_ratio)\n",
    "attribution_ratio=attribution_ratio.squeeze(axis=2)\n",
    "attribution_ratio=pd.DataFrame(attribution_ratio,index=list('ACGT'),columns=range(1,13))\n",
    "print(attribution_ratio)\n",
    "\n",
    "ax = sns.heatmap(attribution_ratio, linewidth=0.5,cmap=\"YlGnBu\")\n",
    "plt.show()"
   ]
  }
 ],
 "metadata": {
  "kernelspec": {
   "display_name": "Python 2",
   "language": "python",
   "name": "python2"
  },
  "language_info": {
   "codemirror_mode": {
    "name": "ipython",
    "version": 2
   },
   "file_extension": ".py",
   "mimetype": "text/x-python",
   "name": "python",
   "nbconvert_exporter": "python",
   "pygments_lexer": "ipython2",
   "version": "2.7.13"
  }
 },
 "nbformat": 4,
 "nbformat_minor": 0
}
